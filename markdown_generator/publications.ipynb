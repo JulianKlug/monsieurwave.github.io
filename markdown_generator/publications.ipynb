{
 "cells": [
  {
   "cell_type": "markdown",
   "metadata": {},
   "source": [
    "# Publications markdown generator for academicpages\n",
    "\n",
    "Takes a TSV of publications with metadata and converts them for use with [academicpages.github.io](academicpages.github.io). This is an interactive Jupyter notebook ([see more info here](http://jupyter-notebook-beginner-guide.readthedocs.io/en/latest/what_is_jupyter.html)). The core python code is also in `publications.py`. Run either from the `markdown_generator` folder after replacing `publications.tsv` with one containing your data.\n",
    "\n",
    "TODO: Make this work with BibTex and other databases of citations, rather than Stuart's non-standard TSV format and citation style.\n"
   ]
  },
  {
   "cell_type": "markdown",
   "metadata": {},
   "source": [
    "## Data format\n",
    "\n",
    "The TSV needs to have the following columns: pub_date, title, venue, excerpt, citation, site_url, and paper_url, with a header at the top. \n",
    "\n",
    "- `excerpt` and `paper_url` can be blank, but the others must have values. \n",
    "- `pub_date` must be formatted as YYYY-MM-DD.\n",
    "- `url_slug` will be the descriptive part of the .md file and the permalink URL for the page about the paper. The .md file will be `YYYY-MM-DD-[url_slug].md` and the permalink will be `https://[yourdomain]/publications/YYYY-MM-DD-[url_slug]`\n",
    "\n",
    "This is how the raw file looks (it doesn't look pretty, use a spreadsheet or other program to edit and create)."
   ]
  },
  {
   "cell_type": "code",
   "execution_count": 1,
   "metadata": {},
   "outputs": [
    {
     "name": "stdout",
     "output_type": "stream",
     "text": [
      "pub_date\ttitle\tvenue\texcerpt\tcitation\turl_slug\tpaper_url\r\n",
      "01.06.18\tMetacognition of visuomotor decisions in conversion disorder\tNeuropsychologia\t\t\"Indrit Begue, Rebekah Blakemore, Julian Klug, Yann Cojan, Silvio Galli, Alexandre Berneye, Selma Aybek, Patrik Vuilleumier. Metacognition of visuomotor decisions in conversion disorder. Neuropsychologia, Volume 114, June 2018.\"\tpaper-metacognition-conversion\thttps://www.ncbi.nlm.nih.gov/pubmed/29698734\r\n",
      "01.02.19\tThree-dimensional Surface Reconstruction of the Human Cochlear Nucleus: Implications for the ABI. \tOtolaryngology - Head and Neck Surgery\t\t\"Vivek V. Kanumuri, Osama Tarabichi, Julian Klug, Nicolas Vachicouras, Maria J. Duarte, Elliott D. Kozin, Stephanie P. Lacour, M. Christian Brown, Daniel J. Lee. Three-dimensional Surface Reconstruction of the Human Cochlear Nucleus: Implications for the ABI. Otolaryngology - Head and Neck Surgery, February 2019.\"\tpaper-3D-CN-ABI\thttps://www.thieme-connect.com/products/ejournals/abstract/10.1055/s-0039-1677863\r\n",
      "05.06.20\tIntegrating regional perfusion CT information to improve prediction of infarction after stroke\tJournal of Cerebral Blood Flow & Metabolism\t\t\"Klug, J., Dirren, E., Preti, M. G., Machi, P., Kleinschmidt, A., Vargas, M. I., ... Carrera, E. (2020). Integrating regional perfusion CT information to improve prediction of infarction after stroke. Journal of Cerebral Blood Flow & Metabolism.\"\tpaper-regional-perfusion-CT\thttps://journals.sagepub.com/doi/10.1177/0271678X20924549\r\n",
      "27.03.21\tBayesian Skip Net: Building on Prior Information for the Prediction and Segmentation of Stroke Lesions\t\"Brainlesion: Glioma, Multiple Sclerosis, Stroke and Traumatic Brain Injuries. BrainLes 2020. Lecture Notes in Computer Science\"\t\t\"Klug J., Leclerc G., Dirren E., Preti M.G., Van�De Ville D., Carrera E. (2021) Bayesian Skip Net: Building on Prior Information for the Prediction and Segmentation of Stroke Lesions. In: Crimi A., Bakas S. (eds) Brainlesion: Glioma, Multiple Sclerosis, Stroke and Traumatic Brain Injuries. BrainLes 2020. Lecture Notes in Computer Science, vol 12658. Springer, Cham. https://doi.org/10.1007/978-3-030-72084-1_16\"\tpaper-bayesian-skip-net\thttps://doi.org/10.1007/978-3-030-72084-1_16"
     ]
    }
   ],
   "source": [
    "!cat publications.tsv"
   ]
  },
  {
   "cell_type": "markdown",
   "metadata": {},
   "source": [
    "## Import pandas\n",
    "\n",
    "We are using the very handy pandas library for dataframes."
   ]
  },
  {
   "cell_type": "code",
   "execution_count": 2,
   "metadata": {},
   "outputs": [],
   "source": [
    "import pandas as pd"
   ]
  },
  {
   "cell_type": "markdown",
   "metadata": {},
   "source": [
    "## Import TSV\n",
    "\n",
    "Pandas makes this easy with the read_csv function. We are using a TSV, so we specify the separator as a tab, or `\\t`.\n",
    "\n",
    "I found it important to put this data in a tab-separated values format, because there are a lot of commas in this kind of data and comma-separated values can get messed up. However, you can modify the import statement, as pandas also has read_excel(), read_json(), and others."
   ]
  },
  {
   "cell_type": "code",
   "execution_count": 3,
   "metadata": {},
   "outputs": [
    {
     "data": {
      "text/plain": "   pub_date                                              title  \\\n0  01.06.18  Metacognition of visuomotor decisions in conve...   \n1  01.02.19  Three-dimensional Surface Reconstruction of th...   \n2  05.06.20  Integrating regional perfusion CT information ...   \n3  27.03.21  Bayesian Skip Net: Building on Prior Informati...   \n\n                                               venue  excerpt  \\\n0                                   Neuropsychologia      NaN   \n1             Otolaryngology - Head and Neck Surgery      NaN   \n2        Journal of Cerebral Blood Flow & Metabolism      NaN   \n3  Brainlesion: Glioma, Multiple Sclerosis, Strok...      NaN   \n\n                                            citation  \\\n0  Indrit Begue, Rebekah Blakemore, Julian Klug, ...   \n1  Vivek V. Kanumuri, Osama Tarabichi, Julian Klu...   \n2  Klug, J., Dirren, E., Preti, M. G., Machi, P.,...   \n3  Klug J., Leclerc G., Dirren E., Preti M.G., Va...   \n\n                         url_slug  \\\n0  paper-metacognition-conversion   \n1                 paper-3D-CN-ABI   \n2     paper-regional-perfusion-CT   \n3         paper-bayesian-skip-net   \n\n                                           paper_url  \n0       https://www.ncbi.nlm.nih.gov/pubmed/29698734  \n1  https://www.thieme-connect.com/products/ejourn...  \n2  https://journals.sagepub.com/doi/10.1177/02716...  \n3       https://doi.org/10.1007/978-3-030-72084-1_16  ",
      "text/html": "<div>\n<style scoped>\n    .dataframe tbody tr th:only-of-type {\n        vertical-align: middle;\n    }\n\n    .dataframe tbody tr th {\n        vertical-align: top;\n    }\n\n    .dataframe thead th {\n        text-align: right;\n    }\n</style>\n<table border=\"1\" class=\"dataframe\">\n  <thead>\n    <tr style=\"text-align: right;\">\n      <th></th>\n      <th>pub_date</th>\n      <th>title</th>\n      <th>venue</th>\n      <th>excerpt</th>\n      <th>citation</th>\n      <th>url_slug</th>\n      <th>paper_url</th>\n    </tr>\n  </thead>\n  <tbody>\n    <tr>\n      <th>0</th>\n      <td>01.06.18</td>\n      <td>Metacognition of visuomotor decisions in conve...</td>\n      <td>Neuropsychologia</td>\n      <td>NaN</td>\n      <td>Indrit Begue, Rebekah Blakemore, Julian Klug, ...</td>\n      <td>paper-metacognition-conversion</td>\n      <td>https://www.ncbi.nlm.nih.gov/pubmed/29698734</td>\n    </tr>\n    <tr>\n      <th>1</th>\n      <td>01.02.19</td>\n      <td>Three-dimensional Surface Reconstruction of th...</td>\n      <td>Otolaryngology - Head and Neck Surgery</td>\n      <td>NaN</td>\n      <td>Vivek V. Kanumuri, Osama Tarabichi, Julian Klu...</td>\n      <td>paper-3D-CN-ABI</td>\n      <td>https://www.thieme-connect.com/products/ejourn...</td>\n    </tr>\n    <tr>\n      <th>2</th>\n      <td>05.06.20</td>\n      <td>Integrating regional perfusion CT information ...</td>\n      <td>Journal of Cerebral Blood Flow &amp; Metabolism</td>\n      <td>NaN</td>\n      <td>Klug, J., Dirren, E., Preti, M. G., Machi, P.,...</td>\n      <td>paper-regional-perfusion-CT</td>\n      <td>https://journals.sagepub.com/doi/10.1177/02716...</td>\n    </tr>\n    <tr>\n      <th>3</th>\n      <td>27.03.21</td>\n      <td>Bayesian Skip Net: Building on Prior Informati...</td>\n      <td>Brainlesion: Glioma, Multiple Sclerosis, Strok...</td>\n      <td>NaN</td>\n      <td>Klug J., Leclerc G., Dirren E., Preti M.G., Va...</td>\n      <td>paper-bayesian-skip-net</td>\n      <td>https://doi.org/10.1007/978-3-030-72084-1_16</td>\n    </tr>\n  </tbody>\n</table>\n</div>"
     },
     "execution_count": 3,
     "metadata": {},
     "output_type": "execute_result"
    }
   ],
   "source": [
    "publications = pd.read_csv(\"publications.tsv\", sep=\"\\t\", header=0, encoding = \"ISO-8859-1\")\n",
    "publications\n"
   ]
  },
  {
   "cell_type": "markdown",
   "metadata": {},
   "source": [
    "## Escape special characters\n",
    "\n",
    "YAML is very picky about how it takes a valid string, so we are replacing single and double quotes (and ampersands) with their HTML encoded equivilents. This makes them look not so readable in raw format, but they are parsed and rendered nicely."
   ]
  },
  {
   "cell_type": "code",
   "execution_count": 4,
   "metadata": {},
   "outputs": [],
   "source": [
    "html_escape_table = {\n",
    "    \"&\": \"&amp;\",\n",
    "    '\"': \"&quot;\",\n",
    "    \"'\": \"&apos;\"\n",
    "    }\n",
    "\n",
    "def html_escape(text):\n",
    "    \"\"\"Produce entities within text.\"\"\"\n",
    "    return \"\".join(html_escape_table.get(c,c) for c in text)"
   ]
  },
  {
   "cell_type": "markdown",
   "metadata": {},
   "source": [
    "## Creating the markdown files\n",
    "\n",
    "This is where the heavy lifting is done. This loops through all the rows in the TSV dataframe, then starts to concatentate a big string (```md```) that contains the markdown for each type. It does the YAML metadata first, then does the description for the individual page."
   ]
  },
  {
   "cell_type": "code",
   "execution_count": 5,
   "metadata": {},
   "outputs": [],
   "source": [
    "import os\n",
    "for row, item in publications.iterrows():\n",
    "    \n",
    "    md_filename = str(item.pub_date) + \"-\" + item.url_slug + \".md\"\n",
    "    html_filename = str(item.pub_date) + \"-\" + item.url_slug\n",
    "    year = item.pub_date[:4]\n",
    "    \n",
    "    ## YAML variables\n",
    "    \n",
    "    md = \"---\\ntitle: \\\"\"   + item.title + '\"\\n'\n",
    "    \n",
    "    md += \"\"\"collection: publications\"\"\"\n",
    "    \n",
    "    md += \"\"\"\\npermalink: /publication/\"\"\" + html_filename\n",
    "    \n",
    "    if len(str(item.excerpt)) > 5:\n",
    "        md += \"\\nexcerpt: '\" + html_escape(item.excerpt) + \"'\"\n",
    "    \n",
    "    md += \"\\ndate: \" + str(item.pub_date) \n",
    "    \n",
    "    md += \"\\nvenue: '\" + html_escape(item.venue) + \"'\"\n",
    "    \n",
    "    if len(str(item.paper_url)) > 5:\n",
    "        md += \"\\npaperurl: '\" + item.paper_url + \"'\"\n",
    "    \n",
    "    md += \"\\ncitation: '\" + html_escape(item.citation) + \"'\"\n",
    "    \n",
    "    md += \"\\n---\"\n",
    "    \n",
    "    ## Markdown description for individual page\n",
    "        \n",
    "    if len(str(item.excerpt)) > 5:\n",
    "        md += \"\\n\" + html_escape(item.excerpt) + \"\\n\"\n",
    "    \n",
    "    if len(str(item.paper_url)) > 5:\n",
    "        md += \"\\n[Download paper here](\" + item.paper_url + \")\\n\" \n",
    "        \n",
    "    md += \"\\nRecommended citation: \" + item.citation\n",
    "    \n",
    "    md_filename = os.path.basename(md_filename)\n",
    "       \n",
    "    with open(\"../_publications/\" + md_filename, 'wb') as f:\n",
    "        f.write(md.encode('utf-8'))"
   ]
  },
  {
   "cell_type": "markdown",
   "metadata": {},
   "source": [
    "These files are in the publications directory, one directory below where we're working from."
   ]
  },
  {
   "cell_type": "code",
   "execution_count": 6,
   "metadata": {},
   "outputs": [
    {
     "name": "stdout",
     "output_type": "stream",
     "text": [
      "01.02.19-paper-3D-CN-ABI.md\r\n",
      "01.06.18-paper-metacognition-conversion.md\r\n",
      "05.06.20-paper-regional-perfusion-CT.md\r\n",
      "2018-06-01-paper-metacognition-conversion.md\r\n",
      "2019-02-01-paper-3D-CN-ABI.md\r\n",
      "2020-06-05-paper-regional-perfusion-CT.md\r\n",
      "27.03.21-paper-bayesian-skip-net.md\r\n"
     ]
    }
   ],
   "source": [
    "!ls ../_publications/"
   ]
  },
  {
   "cell_type": "code",
   "execution_count": 7,
   "metadata": {},
   "outputs": [
    {
     "name": "stdout",
     "output_type": "stream",
     "text": [
      "cat: ../_publications/2009-10-01-paper-title-number-1.md: No such file or directory\r\n"
     ]
    }
   ],
   "source": [
    "!cat ../_publications/2009-10-01-paper-title-number-1.md"
   ]
  },
  {
   "cell_type": "code",
   "execution_count": 7,
   "metadata": {},
   "outputs": [],
   "source": []
  },
  {
   "cell_type": "code",
   "execution_count": 7,
   "metadata": {},
   "outputs": [],
   "source": []
  }
 ],
 "metadata": {
  "kernelspec": {
   "display_name": "Python 3",
   "language": "python",
   "name": "python3"
  },
  "language_info": {
   "codemirror_mode": {
    "name": "ipython",
    "version": 3
   },
   "file_extension": ".py",
   "mimetype": "text/x-python",
   "name": "python",
   "nbconvert_exporter": "python",
   "pygments_lexer": "ipython3",
   "version": "3.6.4"
  },
  "pycharm": {
   "stem_cell": {
    "cell_type": "raw",
    "metadata": {
     "collapsed": false
    },
    "source": []
   }
  }
 },
 "nbformat": 4,
 "nbformat_minor": 1
}